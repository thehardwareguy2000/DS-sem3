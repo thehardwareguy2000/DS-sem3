{
 "cells": [
  {
   "cell_type": "code",
   "execution_count": 1,
   "metadata": {},
   "outputs": [
    {
     "name": "stdout",
     "output_type": "stream",
     "text": [
      "Enter encription text: QWERT\n"
     ]
    }
   ],
   "source": [
    "key=input(\"Enter encription KEY: \")\n",
    "l2=[]\n",
    "for k in key:  \n",
    "     l2.append(ord(k))\n",
    "for i in range(0,len(l2)):\n",
    "    l2[i]=l2[i]-65"
   ]
  },
  {
   "cell_type": "code",
   "execution_count": 2,
   "metadata": {},
   "outputs": [
    {
     "name": "stdout",
     "output_type": "stream",
     "text": [
      "Enter encription text: GAVIN\n"
     ]
    }
   ],
   "source": [
    "s = input(\"Enter encription text: \")\n",
    "\n",
    "l1=[]\n",
    "for c in s:  \n",
    "     l1.append(ord(c))\n",
    "for i in range(0,len(l1)):\n",
    "    l1[i]=l1[i]-65"
   ]
  },
  {
   "cell_type": "code",
   "execution_count": 3,
   "metadata": {},
   "outputs": [],
   "source": [
    "l3 = [] \n",
    "for i in range(0, len(l1)): \n",
    "    l3.append(l1[i] + l2[i]) "
   ]
  },
  {
   "cell_type": "code",
   "execution_count": 4,
   "metadata": {},
   "outputs": [],
   "source": [
    "for i in range(0, len(l3)):\n",
    "    l3[i]=l3[i]%26\n",
    "    l3[i]=l3[i]+65"
   ]
  },
  {
   "cell_type": "code",
   "execution_count": 5,
   "metadata": {},
   "outputs": [
    {
     "name": "stdout",
     "output_type": "stream",
     "text": [
      "W\n",
      "W\n",
      "Z\n",
      "Z\n",
      "G\n"
     ]
    }
   ],
   "source": [
    "#for i in range(0, len(l3)):\n",
    " #   print(chr(l3[i]))"
   ]
  },
  {
   "cell_type": "code",
   "execution_count": 6,
   "metadata": {},
   "outputs": [],
   "source": [
    "msg=\"\"\n",
    "for ele in l3:\n",
    "    msg += chr(ele)"
   ]
  },
  {
   "cell_type": "code",
   "execution_count": 11,
   "metadata": {},
   "outputs": [
    {
     "name": "stdout",
     "output_type": "stream",
     "text": [
      "your vermen encrypted text is := WWZZG\n"
     ]
    }
   ],
   "source": [
    "print(\"your vermen encrypted text is := {}\". format(msg))"
   ]
  },
  {
   "cell_type": "code",
   "execution_count": 8,
   "metadata": {},
   "outputs": [],
   "source": [
    "import math "
   ]
  },
  {
   "cell_type": "code",
   "execution_count": 9,
   "metadata": {},
   "outputs": [],
   "source": [
    "def encryptMessage(msg): \n",
    "    key=input(\"Enter encription columanar KEY: \")\n",
    "    cipher = \"\" \n",
    "  \n",
    " \n",
    "    k_indx = 0\n",
    "  \n",
    "    msg_len = float(len(msg)) \n",
    "    msg_lst = list(msg) \n",
    "    key_lst = sorted(list(key)) \n",
    "  \n",
    " \n",
    "    col = len(key) \n",
    "      \n",
    " \n",
    "    row = int(math.ceil(msg_len / col)) \n",
    "  \n",
    "      \n",
    "    fill_null = int((row * col) - msg_len) \n",
    "    msg_lst.extend('_' * fill_null) \n",
    "  \n",
    "      \n",
    "    matrix = [msg_lst[i: i + col]  \n",
    "              for i in range(0, len(msg_lst), col)] \n",
    "  \n",
    "     \n",
    "    for _ in range(col): \n",
    "        curr_idx = key.index(key_lst[k_indx]) \n",
    "        cipher += ''.join([row[curr_idx]  \n",
    "                          for row in matrix]) \n",
    "        k_indx += 1\n",
    "  \n",
    "    return cipher "
   ]
  },
  {
   "cell_type": "code",
   "execution_count": 10,
   "metadata": {},
   "outputs": [
    {
     "name": "stdout",
     "output_type": "stream",
     "text": [
      "Enter encription columanar text: ERTYUI\n",
      "Enter encription columanar text: ZXCVBN\n",
      "Encrypted Message: GWZZ_W\n"
     ]
    }
   ],
   "source": [
    "\n",
    "cipher = encryptMessage(msg) \n",
    "cipher = encryptMessage(cipher)\n",
    "print(\"Encrypted Message: {}\". format(cipher)) "
   ]
  },
  {
   "cell_type": "code",
   "execution_count": null,
   "metadata": {},
   "outputs": [],
   "source": []
  }
 ],
 "metadata": {
  "kernelspec": {
   "display_name": "Python 3",
   "language": "python",
   "name": "python3"
  },
  "language_info": {
   "codemirror_mode": {
    "name": "ipython",
    "version": 3
   },
   "file_extension": ".py",
   "mimetype": "text/x-python",
   "name": "python",
   "nbconvert_exporter": "python",
   "pygments_lexer": "ipython3",
   "version": "3.7.1"
  }
 },
 "nbformat": 4,
 "nbformat_minor": 4
}
